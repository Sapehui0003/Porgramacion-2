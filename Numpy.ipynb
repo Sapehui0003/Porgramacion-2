{
 "cells": [
  {
   "cell_type": "code",
   "execution_count": 1,
   "metadata": {},
   "outputs": [],
   "source": [
    "import numpy as np"
   ]
  },
  {
   "cell_type": "markdown",
   "metadata": {},
   "source": [
    "## Listas para almacenar pequeñas cantidades de datos unidimensionales"
   ]
  },
  {
   "cell_type": "code",
   "execution_count": 14,
   "metadata": {},
   "outputs": [
    {
     "name": "stdout",
     "output_type": "stream",
     "text": [
      "[1, 3, 5, 7, 9]\n",
      "[5, 7]\n",
      "[6, 8]\n"
     ]
    }
   ],
   "source": [
    "a=[1,3,5,7,9]\n",
    "print(a)\n",
    "print(a[2:4]) #imprime las posiciones de la 3 incluyendo la 4\n",
    "b=[[1,3,5,7,9],[2,4,6,8,10]]\n",
    "print(b[1][2:4])"
   ]
  },
  {
   "cell_type": "code",
   "execution_count": 15,
   "metadata": {},
   "outputs": [
    {
     "name": "stdout",
     "output_type": "stream",
     "text": [
      "[1, 3, 5, 7, 9, 3, 5, 6, 7, 9]\n"
     ]
    }
   ],
   "source": [
    "a=[1,3,5,7,9]\n",
    "b=[3,5,6,7,9]\n",
    "c=a+b #suma los arrays\n",
    "print(c)"
   ]
  },
  {
   "cell_type": "markdown",
   "metadata": {},
   "source": [
    "## Para listas\n",
    "\n",
    "np.array"
   ]
  },
  {
   "cell_type": "code",
   "execution_count": 11,
   "metadata": {},
   "outputs": [
    {
     "name": "stdout",
     "output_type": "stream",
     "text": [
      "[ 4  8 11 14 18]\n",
      "<class 'numpy.ndarray'>\n"
     ]
    },
    {
     "data": {
      "text/plain": [
       "(5,)"
      ]
     },
     "execution_count": 11,
     "metadata": {},
     "output_type": "execute_result"
    }
   ],
   "source": [
    "#as vectors from lists\n",
    "a=np.array([1,3,5,7,9])\n",
    "b=np.array([3,5,6,7,9])\n",
    "c=a+b\n",
    "print(c)\n",
    "print(type(c))\n",
    "c.shape"
   ]
  },
  {
   "cell_type": "markdown",
   "metadata": {},
   "source": [
    "## Matrices"
   ]
  },
  {
   "cell_type": "code",
   "execution_count": 17,
   "metadata": {},
   "outputs": [
    {
     "name": "stdout",
     "output_type": "stream",
     "text": [
      "[[1 2 3]\n",
      " [3 6 9]\n",
      " [2 4 6]]\n",
      "int32\n"
     ]
    },
    {
     "data": {
      "text/plain": [
       "dtype('int32')"
      ]
     },
     "execution_count": 17,
     "metadata": {},
     "output_type": "execute_result"
    }
   ],
   "source": [
    "l = [[1, 2, 3], [3, 6, 9], [2, 4, 6]] # create a list\n",
    "a = np.array (l) # convert a list to an array\n",
    "print(a)\n",
    "\n",
    "a.shape\n",
    "(3, 3)\n",
    "print(a.dtype ) # get type of an array\n",
    "\n",
    "# or directly as matrix\n",
    "M = np.array([[1, 2], [3, 4]])\n",
    "\n",
    "M.shape\n",
    "\n",
    "\n",
    "M.dtype"
   ]
  },
  {
   "cell_type": "code",
   "execution_count": 22,
   "metadata": {},
   "outputs": [
    {
     "name": "stdout",
     "output_type": "stream",
     "text": [
      "[[1.+0.j 2.+0.j]\n",
      " [3.+0.j 4.+0.j]]\n"
     ]
    }
   ],
   "source": [
    "#only one type\n",
    "#M[0,0] = \"hello\" #Me da un error de invalidez de no poder poner un array con palabras\n",
    "\n",
    "\n",
    "M =np.array ([[1, 2], [3, 4]], dtype =complex)\n",
    "#M=array([[ 1.+0.j, 2.+0.j],[ 3.+0.j, 4.+0.j]])\n",
    "print(M)"
   ]
  },
  {
   "cell_type": "code",
   "execution_count": 34,
   "metadata": {},
   "outputs": [
    {
     "name": "stdout",
     "output_type": "stream",
     "text": [
      "[[0 2 3]\n",
      " [9 6 7]\n",
      " [8 4 6]]\n",
      "[0 2 3]\n",
      "7\n",
      "[6 7]\n",
      "[2 6 4]\n",
      "[[0 2 3]\n",
      " [9 6 7]\n",
      " [8 4 6]]\n",
      "[[0 2 3]\n",
      " [9 6 7]\n",
      " [8 4 6]]\n"
     ]
    }
   ],
   "source": [
    "print(a)\n",
    "\n",
    "print(a[0]) # this is just like a list of lists\n",
    "\n",
    "print(a[1, 2]) # arrays can be given comma separated indices\n",
    "\n",
    "print(a[1, 1:3]) # and slices\n",
    "\n",
    "print(a[:,1])\n",
    "\n",
    "a[1, 2] = 7\n",
    "print(a)\n",
    "\n",
    "a[:, 0] = [0, 9, 8]\n",
    "print(a)\n"
   ]
  },
  {
   "cell_type": "markdown",
   "metadata": {},
   "source": [
    "## Generation functions"
   ]
  },
  {
   "cell_type": "code",
   "execution_count": 40,
   "metadata": {},
   "outputs": [
    {
     "ename": "NameError",
     "evalue": "name 'arange' is not defined",
     "output_type": "error",
     "traceback": [
      "\u001b[1;31m---------------------------------------------------------------------------\u001b[0m",
      "\u001b[1;31mNameError\u001b[0m                                 Traceback (most recent call last)",
      "Cell \u001b[1;32mIn[40], line 1\u001b[0m\n\u001b[1;32m----> 1\u001b[0m x \u001b[38;5;241m=\u001b[39m arange(\u001b[38;5;241m0\u001b[39m, \u001b[38;5;241m10\u001b[39m, \u001b[38;5;241m1\u001b[39m) \u001b[38;5;66;03m# arguments: start, stop, step\u001b[39;00m\n\u001b[0;32m      3\u001b[0m np\u001b[38;5;241m.\u001b[39mlinspace (\u001b[38;5;241m0\u001b[39m, \u001b[38;5;241m10\u001b[39m,\u001b[38;5;241m25\u001b[39m)\n\u001b[0;32m      5\u001b[0m np\u001b[38;5;241m.\u001b[39mlogspace (\u001b[38;5;241m0\u001b[39m, \u001b[38;5;241m10\u001b[39m, \u001b[38;5;241m10\u001b[39m, base\u001b[38;5;241m=\u001b[39mnumpy\u001b[38;5;241m.\u001b[39me)\n",
      "\u001b[1;31mNameError\u001b[0m: name 'arange' is not defined"
     ]
    }
   ],
   "source": [
    "x = arange(0, 10, 1) # arguments: start, stop, step\n",
    "\n",
    "np.linspace (0, 10,25)\n",
    "\n",
    "np.logspace (0, 10, 10, base=numpy.e)\n"
   ]
  },
  {
   "cell_type": "code",
   "execution_count": 42,
   "metadata": {},
   "outputs": [
    {
     "name": "stdout",
     "output_type": "stream",
     "text": [
      "[0. 0. 0. 0. 0.]\n"
     ]
    }
   ],
   "source": [
    "# a diagonal matrix\n",
    "np.diag ([1,2,3])\n",
    "\n",
    "b =np.zeros (5)\n",
    "print(b)\n",
    "\n",
    "b.dtype\n",
    "\n",
    "n = 1000\n",
    "#my_int_array = np.zeros (n, dtype =np.int)\n",
    "\n",
    "#my_int_array.dtype\n",
    "\n",
    "c =np.ones ([3,3])\n"
   ]
  }
 ],
 "metadata": {
  "kernelspec": {
   "display_name": "base",
   "language": "python",
   "name": "python3"
  },
  "language_info": {
   "codemirror_mode": {
    "name": "ipython",
    "version": 3
   },
   "file_extension": ".py",
   "mimetype": "text/x-python",
   "name": "python",
   "nbconvert_exporter": "python",
   "pygments_lexer": "ipython3",
   "version": "3.11.7"
  }
 },
 "nbformat": 4,
 "nbformat_minor": 2
}
