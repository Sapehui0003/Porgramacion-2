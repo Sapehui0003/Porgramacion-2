{
 "cells": [
  {
   "cell_type": "code",
   "execution_count": 1,
   "metadata": {},
   "outputs": [],
   "source": [
    "import numpy as np"
   ]
  },
  {
   "cell_type": "markdown",
   "metadata": {},
   "source": [
    "## Listas para almacenar pequeñas cantidades de datos unidimensionales"
   ]
  },
  {
   "cell_type": "code",
   "execution_count": 14,
   "metadata": {},
   "outputs": [
    {
     "name": "stdout",
     "output_type": "stream",
     "text": [
      "[1, 3, 5, 7, 9]\n",
      "[5, 7]\n",
      "[6, 8]\n"
     ]
    }
   ],
   "source": [
    "a=[1,3,5,7,9]\n",
    "print(a)\n",
    "print(a[2:4]) #imprime las posiciones de la 3 incluyendo la 4\n",
    "b=[[1,3,5,7,9],[2,4,6,8,10]]\n",
    "print(b[1][2:4])"
   ]
  },
  {
   "cell_type": "code",
   "execution_count": 15,
   "metadata": {},
   "outputs": [
    {
     "name": "stdout",
     "output_type": "stream",
     "text": [
      "[1, 3, 5, 7, 9, 3, 5, 6, 7, 9]\n"
     ]
    }
   ],
   "source": [
    "a=[1,3,5,7,9]\n",
    "b=[3,5,6,7,9]\n",
    "c=a+b #suma los arrays\n",
    "print(c)"
   ]
  },
  {
   "cell_type": "markdown",
   "metadata": {},
   "source": [
    "## Para listas\n",
    "\n",
    "np.array"
   ]
  },
  {
   "cell_type": "code",
   "execution_count": 11,
   "metadata": {},
   "outputs": [
    {
     "name": "stdout",
     "output_type": "stream",
     "text": [
      "[ 4  8 11 14 18]\n",
      "<class 'numpy.ndarray'>\n"
     ]
    },
    {
     "data": {
      "text/plain": [
       "(5,)"
      ]
     },
     "execution_count": 11,
     "metadata": {},
     "output_type": "execute_result"
    }
   ],
   "source": [
    "#as vectors from lists\n",
    "a=np.array([1,3,5,7,9])\n",
    "b=np.array([3,5,6,7,9])\n",
    "c=a+b\n",
    "print(c)\n",
    "print(type(c))\n",
    "c.shape"
   ]
  },
  {
   "cell_type": "markdown",
   "metadata": {},
   "source": [
    "## Matrices"
   ]
  },
  {
   "cell_type": "code",
   "execution_count": 17,
   "metadata": {},
   "outputs": [
    {
     "name": "stdout",
     "output_type": "stream",
     "text": [
      "[[1 2 3]\n",
      " [3 6 9]\n",
      " [2 4 6]]\n",
      "int32\n"
     ]
    },
    {
     "data": {
      "text/plain": [
       "dtype('int32')"
      ]
     },
     "execution_count": 17,
     "metadata": {},
     "output_type": "execute_result"
    }
   ],
   "source": [
    "l = [[1, 2, 3], [3, 6, 9], [2, 4, 6]] # create a list\n",
    "a = np.array (l) # convert a list to an array\n",
    "print(a)\n",
    "\n",
    "a.shape\n",
    "(3, 3)\n",
    "print(a.dtype ) # get type of an array\n",
    "\n",
    "# or directly as matrix\n",
    "M = np.array([[1, 2], [3, 4]])\n",
    "\n",
    "M.shape\n",
    "\n",
    "\n",
    "M.dtype"
   ]
  },
  {
   "cell_type": "code",
   "execution_count": 22,
   "metadata": {},
   "outputs": [
    {
     "name": "stdout",
     "output_type": "stream",
     "text": [
      "[[1.+0.j 2.+0.j]\n",
      " [3.+0.j 4.+0.j]]\n"
     ]
    }
   ],
   "source": [
    "#only one type\n",
    "#M[0,0] = \"hello\" #Me da un error de invalidez de no poder poner un array con palabras\n",
    "\n",
    "\n",
    "M =np.array ([[1, 2], [3, 4]], dtype =complex)\n",
    "#M=array([[ 1.+0.j, 2.+0.j],[ 3.+0.j, 4.+0.j]])\n",
    "print(M)"
   ]
  },
  {
   "cell_type": "code",
   "execution_count": 34,
   "metadata": {},
   "outputs": [
    {
     "name": "stdout",
     "output_type": "stream",
     "text": [
      "[[0 2 3]\n",
      " [9 6 7]\n",
      " [8 4 6]]\n",
      "[0 2 3]\n",
      "7\n",
      "[6 7]\n",
      "[2 6 4]\n",
      "[[0 2 3]\n",
      " [9 6 7]\n",
      " [8 4 6]]\n",
      "[[0 2 3]\n",
      " [9 6 7]\n",
      " [8 4 6]]\n"
     ]
    }
   ],
   "source": [
    "print(a)\n",
    "\n",
    "print(a[0]) # this is just like a list of lists\n",
    "\n",
    "print(a[1, 2]) # arrays can be given comma separated indices\n",
    "\n",
    "print(a[1, 1:3]) # and slices\n",
    "\n",
    "print(a[:,1])\n",
    "\n",
    "a[1, 2] = 7\n",
    "print(a)\n",
    "\n",
    "a[:, 0] = [0, 9, 8]\n",
    "print(a)\n"
   ]
  },
  {
   "cell_type": "markdown",
   "metadata": {},
   "source": [
    "## Generation functions"
   ]
  },
  {
   "cell_type": "code",
   "execution_count": 62,
   "metadata": {},
   "outputs": [
    {
     "name": "stdout",
     "output_type": "stream",
     "text": [
      "[ 0.          0.41666667  0.83333333  1.25        1.66666667  2.08333333\n",
      "  2.5         2.91666667  3.33333333  3.75        4.16666667  4.58333333\n",
      "  5.          5.41666667  5.83333333  6.25        6.66666667  7.08333333\n",
      "  7.5         7.91666667  8.33333333  8.75        9.16666667  9.58333333\n",
      " 10.        ]\n",
      "[1.00000000e+00 3.03773178e+00 9.22781435e+00 2.80316249e+01\n",
      " 8.51525577e+01 2.58670631e+02 7.85771994e+02 2.38696456e+03\n",
      " 7.25095809e+03 2.20264658e+04]\n"
     ]
    }
   ],
   "source": [
    "x = np.arange(0, 10, 1) # arguments: start, stop, step\n",
    "\n",
    "print(np.linspace (0, 10,25))\n",
    "\n",
    "print(np.logspace (0, 10, 10, base=np.e))\n"
   ]
  },
  {
   "cell_type": "code",
   "execution_count": 73,
   "metadata": {},
   "outputs": [
    {
     "name": "stdout",
     "output_type": "stream",
     "text": [
      "[[1 0 0]\n",
      " [0 2 0]\n",
      " [0 0 3]]\n",
      "[0. 0. 0. 0. 0.]\n",
      "[[1. 1. 1.]\n",
      " [1. 1. 1.]\n",
      " [1. 1. 1.]]\n"
     ]
    }
   ],
   "source": [
    "# a diagonal matrix\n",
    "print(np.diag ([1,2,3]))\n",
    "\n",
    "b =np.zeros (5)\n",
    "print(b)\n",
    "\n",
    "b.dtype\n",
    "\n",
    "n = 1000\n",
    "my_int_array = np.zeros (n, dtype =int)\n",
    "\n",
    "my_int_array.dtype\n",
    "\n",
    "c =np.ones ([3,3])\n",
    "print(c)\n"
   ]
  },
  {
   "cell_type": "markdown",
   "metadata": {},
   "source": [
    "## Arreglos creación y uso"
   ]
  },
  {
   "cell_type": "code",
   "execution_count": 76,
   "metadata": {},
   "outputs": [
    {
     "name": "stdout",
     "output_type": "stream",
     "text": [
      "[0 1 2 3 4]\n",
      "[0 9 2 3 4]\n",
      "[0.  3.6 0.8 1.2 1.6]\n",
      "[0. 1. 2. 3. 4.]\n"
     ]
    },
    {
     "data": {
      "text/plain": [
       "array([3. , 3.5, 4. , 4.5, 5. , 5.5, 6. , 6.5])"
      ]
     },
     "execution_count": 76,
     "metadata": {},
     "output_type": "execute_result"
    }
   ],
   "source": [
    "d =np.arange (5) # just like range()\n",
    "print(d)\n",
    "\n",
    "d[1] = 9.7\n",
    "print(d) # arrays keep their type even if elements changed\n",
    "\n",
    "print(d*0.4) # operations create a new array, with new type\n",
    "\n",
    "d =np.arange (5, dtype=float )\n",
    "print(d)\n",
    "\n",
    "np.arange (3, 7, 0.5) # arbitrary start, stop and step\n"
   ]
  },
  {
   "cell_type": "code",
   "execution_count": 79,
   "metadata": {},
   "outputs": [
    {
     "name": "stdout",
     "output_type": "stream",
     "text": [
      "[[0 0 0 0 0]\n",
      " [1 1 1 1 1]\n",
      " [2 2 2 2 2]\n",
      " [3 3 3 3 3]\n",
      " [4 4 4 4 4]]\n"
     ]
    },
    {
     "data": {
      "text/plain": [
       "array([[0.56189003, 0.32763449, 0.59917565, 0.3363028 , 0.06643701],\n",
       "       [0.70464207, 0.26399841, 0.02597448, 0.77838451, 0.36952389],\n",
       "       [0.10648136, 0.27586453, 0.76040282, 0.03093001, 0.36212294],\n",
       "       [0.90974215, 0.51830873, 0.48533899, 0.95539295, 0.52436678],\n",
       "       [0.92380206, 0.47280913, 0.69903639, 0.97452207, 0.80292231]])"
      ]
     },
     "execution_count": 79,
     "metadata": {},
     "output_type": "execute_result"
    }
   ],
   "source": [
    "x, y =np.mgrid [0:5, 0:5] # similar to meshgrid in MATLAB\n",
    "print(x)\n",
    "\n",
    "# random data\n",
    "np.random.rand (5,5)\n"
   ]
  },
  {
   "cell_type": "markdown",
   "metadata": {},
   "source": [
    "## Creando arreglos"
   ]
  },
  {
   "cell_type": "markdown",
   "metadata": {},
   "source": [
    "Falta el archivo completo TXT para poder ejecutar las diapositivas 20 y 21"
   ]
  },
  {
   "cell_type": "code",
   "execution_count": null,
   "metadata": {},
   "outputs": [],
   "source": [
    "os.system ('head DeBilt.txt)\n",
    "\"\n",
    "data =np.genfromtxt ('DeBilt.txt‘, delimiter=',‘, skip_header =\n",
    "\n",
    "data.shape\n"
   ]
  },
  {
   "cell_type": "code",
   "execution_count": null,
   "metadata": {},
   "outputs": [],
   "source": [
    "np.savetxt ('datasaved.txt', data)\n",
    "\n",
    "os.system ('head datasaved.txt')"
   ]
  },
  {
   "cell_type": "code",
   "execution_count": null,
   "metadata": {},
   "outputs": [],
   "source": [
    "M =np.random.rand (3,3)\n",
    "M\n",
    "\n",
    "np.save ('saved matrix.npy ',M)\n",
    "\n",
    "np.load ('saved matrix.npy')\n"
   ]
  },
  {
   "cell_type": "code",
   "execution_count": 58,
   "metadata": {},
   "outputs": [
    {
     "name": "stdout",
     "output_type": "stream",
     "text": [
      "[10.   21.7  25.6  27.55]\n",
      "[105 125 150 175 195]\n"
     ]
    }
   ],
   "source": [
    "a =np.arange (4.0)\n",
    "b = a * 23.4\n",
    "c = b/(a+1)\n",
    "c += 10\n",
    "print (c)\n",
    "\n",
    "\n",
    "arr = np.arange (100, 200)\n",
    "select = [5, 25, 50, 75,-5]\n",
    "print(arr [select]) # can use integer lists as indices\n",
    "\n",
    "\n",
    "arr = np.arange (10, 20).reshape((2,5))\n"
   ]
  },
  {
   "cell_type": "markdown",
   "metadata": {},
   "source": [
    "## Métodos"
   ]
  },
  {
   "cell_type": "code",
   "execution_count": 53,
   "metadata": {},
   "outputs": [
    {
     "data": {
      "text/plain": [
       "1.2"
      ]
     },
     "execution_count": 53,
     "metadata": {},
     "output_type": "execute_result"
    }
   ],
   "source": [
    "\n",
    "arr.sum ()\n",
    "\n",
    "arr.mean ()\n",
    "\n",
    "arr.std ()\n",
    "\n",
    "arr.max ()\n",
    "\n",
    "arr.min ()\n"
   ]
  },
  {
   "cell_type": "markdown",
   "metadata": {},
   "source": [
    "## Método Sort"
   ]
  },
  {
   "cell_type": "code",
   "execution_count": 52,
   "metadata": {},
   "outputs": [
    {
     "name": "stdout",
     "output_type": "stream",
     "text": [
      "[1.2 1.8 2.3 4.5 5.5 6.7]\n",
      "[1.2 1.8 2.3 4.5 5.5 6.7]\n",
      "[4.5 2.3 6.7 1.2 1.8 5.5]\n"
     ]
    }
   ],
   "source": [
    "arr = np.array ([4.5, 2.3, 6.7, 1.2, 1.8, 5.5])\n",
    "\n",
    "arr.sort () # acts on array itself\n",
    "print(arr )\n",
    "\n",
    "x =np.array ([4.5, 2.3, 6.7, 1.2, 1.8, 5.5])\n",
    "\n",
    "print(np.sort (x))\n",
    "\n",
    "print(x)\n"
   ]
  },
  {
   "cell_type": "markdown",
   "metadata": {},
   "source": [
    "## Funciones"
   ]
  },
  {
   "cell_type": "code",
   "execution_count": 94,
   "metadata": {},
   "outputs": [
    {
     "name": "stdout",
     "output_type": "stream",
     "text": [
      "[[1. 2.]\n",
      " [4. 3.]]\n"
     ]
    },
    {
     "data": {
      "text/plain": [
       "array([[-1.,  0.],\n",
       "       [ 0., -1.]])"
      ]
     },
     "execution_count": 94,
     "metadata": {},
     "output_type": "execute_result"
    }
   ],
   "source": [
    "a = np.array([[1.0, 2.0], [4.0, 3.0]])\n",
    "print (a)\n",
    "\n",
    "a.transpose()\n",
    "\n",
    "#np.inv(a) esta forma ha sido eliminada en numpy\n",
    "np.linalg.inv(a)\n",
    "\n",
    "u = np.eye(2) # unit 2x2 matrix; \"eye\" represents \"I\"\n",
    "u\n",
    "\n",
    "j = np.array([[0.0,-1.0], [1.0, 0.0]])\n",
    "np.dot (j, j) # matrix product\n"
   ]
  },
  {
   "cell_type": "code",
   "execution_count": 84,
   "metadata": {},
   "outputs": [
    {
     "name": "stdout",
     "output_type": "stream",
     "text": [
      "[[1. 2.]\n",
      " [4. 3.]]\n",
      "[[1. 4.]\n",
      " [2. 3.]]\n",
      "[[-0.6  0.4]\n",
      " [ 0.8 -0.2]]\n",
      "[[1. 0.]\n",
      " [0. 1.]]\n",
      "[[1. 0.]\n",
      " [0. 1.]]\n"
     ]
    }
   ],
   "source": [
    "a = np.array([[1.0, 2.0], [4.0, 3.0]])\n",
    "print(a) \n",
    "\n",
    "# Transposición correcta\n",
    "a_transpuesta = a.T \n",
    "print(a_transpuesta)\n",
    "\n",
    "# Inversa correcta (usando numpy.linalg.inv)\n",
    "a_inversa = np.linalg.inv(a)\n",
    "print(a_inversa)\n",
    "\n",
    "# Matriz identidad\n",
    "u = np.eye(2)\n",
    "print(u)\n",
    "\n",
    "# Matriz de intercambio\n",
    "j = np.array([[0.0, 1.0], [1.0, 0.0]])\n",
    "\n",
    "# Producto de matrices\n",
    "j_cuadrado = np.dot(j, j)\n",
    "print(j_cuadrado)"
   ]
  },
  {
   "cell_type": "code",
   "execution_count": 47,
   "metadata": {},
   "outputs": [
    {
     "name": "stdout",
     "output_type": "stream",
     "text": [
      "[6. 4. 9.]\n",
      "[-4.  0. -3.]\n",
      "[ 5.  4. 18.]\n",
      "[5. 1. 2.]\n",
      "[1. 0. 3.]\n",
      "[  5.   4. 216.]\n",
      "[[1. 2.]\n",
      " [3. 4.]\n",
      " [5. 6.]]\n",
      "[-1.  3.]\n",
      "[[0. 5.]\n",
      " [2. 7.]\n",
      " [4. 9.]]\n"
     ]
    }
   ],
   "source": [
    "a = np.array([1,2,3], float)\n",
    "b = np.array([5,2,6], float)\n",
    "suma= a + b\n",
    "print(suma)\n",
    "#Se agregan las operaciones guardadas en una variable para guardar todos los resultados\n",
    "resta= a-b\n",
    "print(resta)\n",
    "\n",
    "multiplicación=a * b\n",
    "print(multiplicación)\n",
    "\n",
    "división=b / a\n",
    "print(división)\n",
    "\n",
    "residuo= a% b\n",
    "print(residuo)\n",
    "\n",
    "exponente=b**a\n",
    "print(exponente)\n",
    "\n",
    "a = np.array([[1, 2], [3, 4], [5, 6]], float)\n",
    "b = np.array([-1, 3], float)\n",
    "arraya=a\n",
    "print(arraya)\n",
    "arrayb=b\n",
    "print(arrayb)\n",
    "array3= a + b\n",
    "print(array3)\n"
   ]
  },
  {
   "cell_type": "code",
   "execution_count": 45,
   "metadata": {},
   "outputs": [
    {
     "data": {
      "text/plain": [
       "array([[ 1.,  4.],\n",
       "       [ 9., 16.],\n",
       "       [25., 36.]])"
      ]
     },
     "execution_count": 45,
     "metadata": {},
     "output_type": "execute_result"
    }
   ],
   "source": [
    "a = np.array([[1, 2], [3, 4], [5, 6]], float)\n",
    "b = np.array([\n",
    "1, 3], float)\n",
    "\n",
    "#Quitar el signo de gato para ver los resultados de cada multiplicacion\n",
    "a * a\n",
    "\n",
    "#b * b\n",
    "\n",
    "#a * b\n"
   ]
  }
 ],
 "metadata": {
  "kernelspec": {
   "display_name": "base",
   "language": "python",
   "name": "python3"
  },
  "language_info": {
   "codemirror_mode": {
    "name": "ipython",
    "version": 3
   },
   "file_extension": ".py",
   "mimetype": "text/x-python",
   "name": "python",
   "nbconvert_exporter": "python",
   "pygments_lexer": "ipython3",
   "version": "3.11.7"
  }
 },
 "nbformat": 4,
 "nbformat_minor": 2
}
